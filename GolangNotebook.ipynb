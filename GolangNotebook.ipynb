{
  "nbformat": 4,
  "nbformat_minor": 0,
  "metadata": {
    "colab": {
      "name": "GolangNotebook.ipynb",
      "provenance": [],
      "collapsed_sections": []
    },
    "kernelspec": {
      "name": "gophernotes",
      "display_name": "Go"
    }
  },
  "cells": [
    {
      "cell_type": "markdown",
      "metadata": {
        "id": "3o0eEBjPUUW4"
      },
      "source": [
        "**How to run Golang in Google Colab.**\n",
        "\n",
        "1.   Run the first code cell, using the python runtime. \n",
        "2.   Refresh the page to use the Go kernel (gophernotes).\n",
        "3.   Test that everything went well by running the Golang cells below."
      ]
    },
    {
      "cell_type": "code",
      "metadata": {
        "id": "caT1iMfshw62",
        "outputId": "259c10d3-5810-4160-8796-3b0b7d479687",
        "colab": {
          "base_uri": "https://localhost:8080/"
        }
      },
      "source": [
        "!add-apt-repository ppa:longsleep/golang-backports -y\n",
        "!apt update\n",
        "!apt install golang-go\n",
        "%env GOPATH=/root/go\n",
        "!go get -u github.com/gopherdata/gophernotes\n",
        "!cp ~/go/bin/gophernotes /usr/bin/\n",
        "!mkdir /usr/local/share/jupyter/kernels/gophernotes\n",
        "!cp ~/go/src/github.com/gopherdata/gophernotes/kernel/* \\\n",
        "       /usr/local/share/jupyter/kernels/gophernotes"
      ],
      "execution_count": null,
      "outputs": [
        {
          "output_type": "stream",
          "text": [
            "\r0% [Working]\r            \rIgn:1 https://developer.download.nvidia.com/compute/cuda/repos/ubuntu1804/x86_64  InRelease\n",
            "\r0% [Waiting for headers] [Waiting for headers] [Connected to cloud.r-project.or\r                                                                               \rGet:2 https://cloud.r-project.org/bin/linux/ubuntu bionic-cran40/ InRelease [3,626 B]\n",
            "\r0% [Waiting for headers] [Waiting for headers] [2 InRelease 3,626 B/3,626 B 100\r0% [Waiting for headers] [Waiting for headers] [Waiting for headers] [Waiting f\r0% [2 InRelease gpgv 3,626 B] [Waiting for headers] [Waiting for headers] [Wait\r                                                                               \rGet:3 http://security.ubuntu.com/ubuntu bionic-security InRelease [88.7 kB]\n",
            "\r0% [2 InRelease gpgv 3,626 B] [Waiting for headers] [3 InRelease 14.2 kB/88.7 k\r                                                                               \rIgn:4 https://developer.download.nvidia.com/compute/machine-learning/repos/ubuntu1804/x86_64  InRelease\n",
            "\r0% [2 InRelease gpgv 3,626 B] [Waiting for headers] [3 InRelease 14.2 kB/88.7 k\r                                                                               \rGet:5 http://ppa.launchpad.net/c2d4u.team/c2d4u4.0+/ubuntu bionic InRelease [15.9 kB]\n",
            "\r0% [2 InRelease gpgv 3,626 B] [Waiting for headers] [3 InRelease 14.2 kB/88.7 k\r                                                                               \rHit:6 http://archive.ubuntu.com/ubuntu bionic InRelease\n",
            "\r0% [2 InRelease gpgv 3,626 B] [Waiting for headers] [3 InRelease 14.2 kB/88.7 k\r                                                                               \rHit:7 https://developer.download.nvidia.com/compute/cuda/repos/ubuntu1804/x86_64  Release\n",
            "Hit:8 https://developer.download.nvidia.com/compute/machine-learning/repos/ubuntu1804/x86_64  Release\n",
            "Get:9 http://archive.ubuntu.com/ubuntu bionic-updates InRelease [88.7 kB]\n",
            "Hit:10 http://ppa.launchpad.net/graphics-drivers/ppa/ubuntu bionic InRelease\n",
            "Get:11 http://archive.ubuntu.com/ubuntu bionic-backports InRelease [74.6 kB]\n",
            "Get:12 http://ppa.launchpad.net/longsleep/golang-backports/ubuntu bionic InRelease [15.4 kB]\n",
            "Get:15 http://ppa.launchpad.net/c2d4u.team/c2d4u4.0+/ubuntu bionic/main Sources [1,675 kB]\n",
            "Get:16 http://security.ubuntu.com/ubuntu bionic-security/universe amd64 Packages [1,340 kB]\n",
            "Get:17 http://archive.ubuntu.com/ubuntu bionic-updates/universe amd64 Packages [2,104 kB]\n",
            "Get:18 http://security.ubuntu.com/ubuntu bionic-security/main amd64 Packages [1,693 kB]\n",
            "Get:19 http://ppa.launchpad.net/c2d4u.team/c2d4u4.0+/ubuntu bionic/main amd64 Packages [857 kB]\n",
            "Get:20 http://archive.ubuntu.com/ubuntu bionic-updates/main amd64 Packages [2,110 kB]\n",
            "Get:21 http://ppa.launchpad.net/longsleep/golang-backports/ubuntu bionic/main amd64 Packages [5,494 B]\n",
            "Fetched 10.1 MB in 3s (3,366 kB/s)\n",
            "Reading package lists... Done\n",
            "Ign:1 https://developer.download.nvidia.com/compute/cuda/repos/ubuntu1804/x86_64  InRelease\n",
            "Hit:2 https://cloud.r-project.org/bin/linux/ubuntu bionic-cran40/ InRelease\n",
            "Ign:3 https://developer.download.nvidia.com/compute/machine-learning/repos/ubuntu1804/x86_64  InRelease\n",
            "Hit:4 http://ppa.launchpad.net/c2d4u.team/c2d4u4.0+/ubuntu bionic InRelease\n",
            "Hit:5 http://archive.ubuntu.com/ubuntu bionic InRelease\n",
            "Hit:6 https://developer.download.nvidia.com/compute/cuda/repos/ubuntu1804/x86_64  Release\n",
            "Hit:7 https://developer.download.nvidia.com/compute/machine-learning/repos/ubuntu1804/x86_64  Release\n",
            "Hit:8 http://security.ubuntu.com/ubuntu bionic-security InRelease\n",
            "Hit:9 http://archive.ubuntu.com/ubuntu bionic-updates InRelease\n",
            "Hit:10 http://archive.ubuntu.com/ubuntu bionic-backports InRelease\n",
            "Hit:11 http://ppa.launchpad.net/graphics-drivers/ppa/ubuntu bionic InRelease\n",
            "Hit:12 http://ppa.launchpad.net/longsleep/golang-backports/ubuntu bionic InRelease\n",
            "Reading package lists... Done\n",
            "Building dependency tree       \n",
            "Reading state information... Done\n",
            "8 packages can be upgraded. Run 'apt list --upgradable' to see them.\n",
            "Reading package lists... Done\n",
            "Building dependency tree       \n",
            "Reading state information... Done\n",
            "The following additional packages will be installed:\n",
            "  golang-1.15-go golang-1.15-src golang-src\n",
            "Suggested packages:\n",
            "  bzr | brz mercurial subversion\n",
            "The following NEW packages will be installed:\n",
            "  golang-1.15-go golang-1.15-src golang-go golang-src\n",
            "0 upgraded, 4 newly installed, 0 to remove and 8 not upgraded.\n",
            "Need to get 61.3 MB of archives.\n",
            "After this operation, 358 MB of additional disk space will be used.\n",
            "Get:1 http://ppa.launchpad.net/longsleep/golang-backports/ubuntu bionic/main amd64 golang-1.15-src amd64 1.15.2-1longsleep1+bionic [13.8 MB]\n",
            "Get:2 http://ppa.launchpad.net/longsleep/golang-backports/ubuntu bionic/main amd64 golang-1.15-go amd64 1.15.2-1longsleep1+bionic [47.4 MB]\n",
            "Get:3 http://ppa.launchpad.net/longsleep/golang-backports/ubuntu bionic/main amd64 golang-src amd64 2:1.15-1longsleep1+bionic [3,924 B]\n",
            "Get:4 http://ppa.launchpad.net/longsleep/golang-backports/ubuntu bionic/main amd64 golang-go amd64 2:1.15-1longsleep1+bionic [23.0 kB]\n",
            "Fetched 61.3 MB in 4s (15.4 MB/s)\n",
            "Selecting previously unselected package golang-1.15-src.\n",
            "(Reading database ... 144617 files and directories currently installed.)\n",
            "Preparing to unpack .../golang-1.15-src_1.15.2-1longsleep1+bionic_amd64.deb ...\n",
            "Unpacking golang-1.15-src (1.15.2-1longsleep1+bionic) ...\n",
            "Selecting previously unselected package golang-1.15-go.\n",
            "Preparing to unpack .../golang-1.15-go_1.15.2-1longsleep1+bionic_amd64.deb ...\n",
            "Unpacking golang-1.15-go (1.15.2-1longsleep1+bionic) ...\n",
            "Selecting previously unselected package golang-src.\n",
            "Preparing to unpack .../golang-src_2%3a1.15-1longsleep1+bionic_amd64.deb ...\n",
            "Unpacking golang-src (2:1.15-1longsleep1+bionic) ...\n",
            "Selecting previously unselected package golang-go.\n",
            "Preparing to unpack .../golang-go_2%3a1.15-1longsleep1+bionic_amd64.deb ...\n",
            "Unpacking golang-go (2:1.15-1longsleep1+bionic) ...\n",
            "Setting up golang-1.15-src (1.15.2-1longsleep1+bionic) ...\n",
            "Setting up golang-1.15-go (1.15.2-1longsleep1+bionic) ...\n",
            "Setting up golang-src (2:1.15-1longsleep1+bionic) ...\n",
            "Setting up golang-go (2:1.15-1longsleep1+bionic) ...\n",
            "Processing triggers for man-db (2.8.3-2ubuntu0.1) ...\n",
            "env: GOPATH=/root/go\n"
          ],
          "name": "stdout"
        }
      ]
    },
    {
      "cell_type": "markdown",
      "metadata": {
        "id": "NJeh4fVHU8Gy"
      },
      "source": [
        "**Golang Code Cells**"
      ]
    },
    {
      "cell_type": "code",
      "metadata": {
        "id": "voxjyR9BRXV0"
      },
      "source": [
        "//Testing if golang works\n",
        "x := []int{1,2,3,4,5}\n",
        "for i := range x {\n",
        "  fmt.Println(x[i])\n",
        "}"
      ],
      "execution_count": null,
      "outputs": []
    },
    {
      "cell_type": "code",
      "metadata": {
        "id": "XaVQi-eXT1Ed"
      },
      "source": [
        "import (\n",
        "\t\"fmt\"\n",
        "\n",
        "\t\"github.com/sjwhitworth/golearn/base\"\n",
        "\t\"github.com/sjwhitworth/golearn/evaluation\"\n",
        "\t\"github.com/sjwhitworth/golearn/knn\"\n",
        ")"
      ],
      "execution_count": 15,
      "outputs": []
    },
    {
      "cell_type": "code",
      "metadata": {
        "id": "6ZDD_sFhTyk2",
        "outputId": "b6c6747d-9d9e-47cd-c5ec-d5b31ddc726f",
        "colab": {
          "base_uri": "https://localhost:8080/"
        }
      },
      "source": [
        "// Load in a dataset, with headers. Header attributes will be stored.\n",
        "// Think of instances as a Data Frame structure in R or Pandas.\n",
        "// You can also create instances from scratch.\n",
        "rawData, err := base.ParseCSVToInstances(\"/content/iris.csv\", true)\n",
        "if err != nil {\n",
        "  panic(err)\n",
        "}\n",
        "\n",
        "// Print a pleasant summary of your data.\n",
        "fmt.Println(rawData)"
      ],
      "execution_count": 16,
      "outputs": [
        {
          "output_type": "stream",
          "text": [
            "Instances with 150 row(s) 5 attribute(s)\n",
            "Attributes: \n",
            "\tFloatAttribute(height)\n",
            "\tFloatAttribute(width)\n",
            "\tFloatAttribute(weight)\n",
            "\tFloatAttribute(water)\n",
            "*\tCategoricalAttribute(\"color\", [Iris-setosa Iris-versicolor Iris-virginica])\n",
            "\n",
            "Data:\n",
            "\t5.1 3.5 1.4 0.2 Iris-setosa \n",
            "\t4.9 3.0 1.4 0.2 Iris-setosa \n",
            "\t4.7 3.2 1.3 0.2 Iris-setosa \n",
            "\t4.6 3.1 1.5 0.2 Iris-setosa \n",
            "\t5.0 3.6 1.4 0.2 Iris-setosa \n",
            "\t5.4 3.9 1.7 0.4 Iris-setosa \n",
            "\t4.6 3.4 1.4 0.3 Iris-setosa \n",
            "\t5.0 3.4 1.5 0.2 Iris-setosa \n",
            "\t4.4 2.9 1.4 0.2 Iris-setosa \n",
            "\t4.9 3.1 1.5 0.1 Iris-setosa \n",
            "\t5.4 3.7 1.5 0.2 Iris-setosa \n",
            "\t4.8 3.4 1.6 0.2 Iris-setosa \n",
            "\t4.8 3.0 1.4 0.1 Iris-setosa \n",
            "\t4.3 3.0 1.1 0.1 Iris-setosa \n",
            "\t5.8 4.0 1.2 0.2 Iris-setosa \n",
            "\t5.7 4.4 1.5 0.4 Iris-setosa \n",
            "\t5.4 3.9 1.3 0.4 Iris-setosa \n",
            "\t5.1 3.5 1.4 0.3 Iris-setosa \n",
            "\t5.7 3.8 1.7 0.3 Iris-setosa \n",
            "\t5.1 3.8 1.5 0.3 Iris-setosa \n",
            "\t5.4 3.4 1.7 0.2 Iris-setosa \n",
            "\t5.1 3.7 1.5 0.4 Iris-setosa \n",
            "\t4.6 3.6 1.0 0.2 Iris-setosa \n",
            "\t5.1 3.3 1.7 0.5 Iris-setosa \n",
            "\t4.8 3.4 1.9 0.2 Iris-setosa \n",
            "\t5.0 3.0 1.6 0.2 Iris-setosa \n",
            "\t5.0 3.4 1.6 0.4 Iris-setosa \n",
            "\t5.2 3.5 1.5 0.2 Iris-setosa \n",
            "\t5.2 3.4 1.4 0.2 Iris-setosa \n",
            "\t4.7 3.2 1.6 0.2 Iris-setosa \n",
            "\t...\n",
            "120 row(s) undisplayed\n"
          ],
          "name": "stdout"
        },
        {
          "output_type": "execute_result",
          "data": {
            "text/plain": [
              "1161 <nil>"
            ]
          },
          "metadata": {
            "tags": []
          },
          "execution_count": 16
        }
      ]
    },
    {
      "cell_type": "code",
      "metadata": {
        "id": "VIryuNE4T-RH",
        "outputId": "bd199371-6312-4628-9d2e-53ce6ff52630",
        "colab": {
          "base_uri": "https://localhost:8080/"
        }
      },
      "source": [
        "//Initialises a new KNN classifier\n",
        "cls := knn.NewKnnClassifier(\"euclidean\", \"linear\", 3)\n",
        "trainData, testData := base.InstancesTrainTestSplit(rawData, 0.10)\n",
        "cls.Fit(trainData)\n",
        "fmt.Println(trainData)"
      ],
      "execution_count": 17,
      "outputs": [
        {
          "output_type": "stream",
          "text": [
            "InstancesView with 130 row(s) 5 attribute(s)\n",
            "With defined Attribute view\n",
            "With defined Row view\n",
            "Row masking on.\n",
            "Attributes:\n",
            "\tFloatAttribute(height)\n",
            "\tFloatAttribute(width)\n",
            "\tFloatAttribute(weight)\n",
            "\tFloatAttribute(water)\n",
            "*\tCategoricalAttribute(\"color\", [Iris-setosa Iris-versicolor Iris-virginica])\n",
            "Data:\t6.0 2.7 5.1 1.6 Iris-versicolor \n",
            "\t6.5 2.8 4.6 1.5 Iris-versicolor \n",
            "\t5.1 3.8 1.6 0.2 Iris-setosa \n",
            "\t7.4 2.8 6.1 1.9 Iris-virginica \n",
            "\t5.3 3.7 1.5 0.2 Iris-setosa \n",
            "\t4.9 2.4 3.3 1.0 Iris-versicolor \n",
            "\t6.4 2.8 5.6 2.2 Iris-virginica \n",
            "\t6.7 3.1 4.4 1.4 Iris-versicolor \n",
            "\t6.2 2.2 4.5 1.5 Iris-versicolor \n",
            "\t5.1 3.7 1.5 0.4 Iris-setosa \n",
            "\t6.1 2.8 4.7 1.2 Iris-versicolor \n",
            "\t5.7 3.0 4.2 1.2 Iris-versicolor \n",
            "\t5.9 3.0 5.1 1.8 Iris-virginica \n",
            "\t5.7 2.8 4.5 1.3 Iris-versicolor \n",
            "\t6.4 3.2 4.5 1.5 Iris-versicolor \n",
            "\t5.1 3.8 1.5 0.3 Iris-setosa \n",
            "\t5.8 2.7 5.1 1.9 Iris-virginica \n",
            "\t5.5 2.4 3.8 1.1 Iris-versicolor \n",
            "\t4.5 2.3 1.3 0.3 Iris-setosa \n",
            "\t7.1 3.0 5.9 2.1 Iris-virginica \n",
            "\t4.6 3.6 1.0 0.2 Iris-setosa \n",
            "\t7.0 3.2 4.7 1.4 Iris-versicolor \n",
            "\t6.3 2.5 5.0 1.9 Iris-virginica \n",
            "\t7.2 3.6 6.1 2.5 Iris-virginica \n",
            "\t6.4 2.9 4.3 1.3 Iris-versicolor \n",
            "\t5.9 3.0 4.2 1.5 Iris-versicolor \n",
            "\t7.6 3.0 6.6 2.1 Iris-virginica \n",
            "\t5.4 3.0 4.5 1.5 Iris-versicolor \n",
            "\t4.6 3.2 1.4 0.2 Iris-setosa \n",
            "\t6.7 3.1 4.7 1.5 Iris-versicolor \n",
            "\t...\n",
            "100 row(s) undisplayed\n"
          ],
          "name": "stdout"
        },
        {
          "output_type": "execute_result",
          "data": {
            "text/plain": [
              "1312 <nil>"
            ]
          },
          "metadata": {
            "tags": []
          },
          "execution_count": 17
        }
      ]
    },
    {
      "cell_type": "code",
      "metadata": {
        "id": "Nejc2GFCR5lo",
        "outputId": "c970d7b1-d507-4cde-eb64-1d78b5317536",
        "colab": {
          "base_uri": "https://localhost:8080/"
        }
      },
      "source": [
        "//make predictions on the testdata\n",
        "predictions, predErr := cls.Predict(testData)\n",
        "if predErr != nil {\n",
        "  panic(predErr)\n",
        "}\n",
        "fmt.Println(predictions)"
      ],
      "execution_count": 18,
      "outputs": [
        {
          "output_type": "stream",
          "text": [
            "Instances with 20 row(s) 1 attribute(s)\n",
            "Attributes: \n",
            "*\tCategoricalAttribute(\"color\", [Iris-setosa Iris-versicolor Iris-virginica])\n",
            "\n",
            "Data:\n",
            "\tIris-setosa \n",
            "\tIris-setosa \n",
            "\tIris-versicolor \n",
            "\tIris-setosa \n",
            "\tIris-virginica \n",
            "\tIris-virginica \n",
            "\tIris-setosa \n",
            "\tIris-setosa \n",
            "\tIris-setosa \n",
            "\tIris-setosa \n",
            "\tIris-setosa \n",
            "\tIris-virginica \n",
            "\tIris-virginica \n",
            "\tIris-virginica \n",
            "\tIris-setosa \n",
            "\tIris-versicolor \n",
            "\tIris-virginica \n",
            "\tIris-setosa \n",
            "\tIris-setosa \n",
            "\tIris-virginica \n",
            "All rows displayed\n"
          ],
          "name": "stdout"
        },
        {
          "output_type": "execute_result",
          "data": {
            "text/plain": [
              "466 <nil>"
            ]
          },
          "metadata": {
            "tags": []
          },
          "execution_count": 18
        }
      ]
    },
    {
      "cell_type": "code",
      "metadata": {
        "id": "ab_c895cUZEk",
        "outputId": "f8f2d5c0-3cc7-4427-d937-a86d9cadc063",
        "colab": {
          "base_uri": "https://localhost:8080/"
        }
      },
      "source": [
        "//print relevant info\n",
        "confusionMat, confErr := evaluation.GetConfusionMatrix(testData, predictions)\n",
        "if confErr != nil {\n",
        "  panic(fmt.Sprintf(\"Unable to get confusion matrix: %s\", confErr.Error()))\n",
        "}\n",
        "fmt.Println(evaluation.GetSummary(confusionMat))"
      ],
      "execution_count": 19,
      "outputs": [
        {
          "output_type": "stream",
          "text": [
            "Reference Class\tTrue Positives\tFalse Positives\tTrue Negatives\tPrecision\tRecall\tF1 Score\n",
            "---------------\t--------------\t---------------\t--------------\t---------\t------\t--------\n",
            "Iris-setosa\t11\t\t0\t\t9\t\t1.0000\t\t1.0000\t1.0000\n",
            "Iris-versicolor\t2\t\t0\t\t17\t\t1.0000\t\t0.6667\t0.8000\n",
            "Iris-virginica\t6\t\t1\t\t13\t\t0.8571\t\t1.0000\t0.9231\n",
            "Overall accuracy: 0.9500\n",
            "\n"
          ],
          "name": "stdout"
        },
        {
          "output_type": "execute_result",
          "data": {
            "text/plain": [
              "341 <nil>"
            ]
          },
          "metadata": {
            "tags": []
          },
          "execution_count": 19
        }
      ]
    },
    {
      "cell_type": "code",
      "metadata": {
        "id": "uCIWgeoFUKwQ"
      },
      "source": [
        "//create an instance to manually add data too\n",
        "inst := base.NewDenseInstances()\n",
        "//need to set up the instance to match the data set\n",
        "//add the attributes\n",
        "attrSpecsUnordered := base.ResolveAllAttributes(testData)\n",
        "attrSpecs := make([]base.AttributeSpec, len(attrSpecsUnordered))\n",
        "for x, a := range attrSpecsUnordered {\n",
        "  i := a.GetAttribute()\n",
        "  b := inst.AddAttribute(i)\n",
        "  attrSpecs[x] = b\n",
        "}\n",
        "//adds the class attribute, class is the category\n",
        "inst.AddClassAttribute(inst.AllAttributes()[4])\n",
        "//allocates space for another row\n",
        "inst.Extend(1)\n",
        "//sets value for the row and column\n",
        "inst.Set(attrSpecs[0], 0, attrSpecs[0].GetAttribute().GetSysValFromString(\"5.9\"))\n",
        "inst.Set(attrSpecs[1], 0, attrSpecs[1].GetAttribute().GetSysValFromString(\"3.0\"))\n",
        "inst.Set(attrSpecs[2], 0, attrSpecs[2].GetAttribute().GetSysValFromString(\"5.1\"))\n",
        "inst.Set(attrSpecs[3], 0, attrSpecs[2].GetAttribute().GetSysValFromString(\"1.8\"))"
      ],
      "execution_count": 20,
      "outputs": []
    },
    {
      "cell_type": "code",
      "metadata": {
        "id": "s7Lg5jyiTkzK",
        "outputId": "cc876b13-911a-47b2-9c87-dce4d445caef",
        "colab": {
          "base_uri": "https://localhost:8080/"
        }
      },
      "source": [
        "//make prediction on the single instance\n",
        "predictionsNew, newPredErr := cls.Predict(inst)\n",
        "if newPredErr != nil {\n",
        "  panic(newPredErr)\n",
        "}\n",
        "//should be orange\n",
        "fmt.Println(\"SINGLE PREDICTION \", predictionsNew)"
      ],
      "execution_count": 21,
      "outputs": [
        {
          "output_type": "stream",
          "text": [
            "SINGLE PREDICTION  Instances with 1 row(s) 1 attribute(s)\n",
            "Attributes: \n",
            "*\tCategoricalAttribute(\"color\", [Iris-setosa Iris-versicolor Iris-virginica])\n",
            "\n",
            "Data:\n",
            "\tIris-virginica \n",
            "All rows displayed\n"
          ],
          "name": "stdout"
        },
        {
          "output_type": "execute_result",
          "data": {
            "text/plain": [
              "192 <nil>"
            ]
          },
          "metadata": {
            "tags": []
          },
          "execution_count": 21
        }
      ]
    }
  ]
}